{
 "cells": [
  {
   "cell_type": "markdown",
   "metadata": {},
   "source": [
    "##### Note: Running the whole notebook takes just over 3 minutes."
   ]
  },
  {
   "cell_type": "markdown",
   "metadata": {},
   "source": [
    "## Setup"
   ]
  },
  {
   "cell_type": "code",
   "execution_count": 1,
   "metadata": {},
   "outputs": [
    {
     "ename": "ModuleNotFoundError",
     "evalue": "No module named 'api_keys'",
     "output_type": "error",
     "traceback": [
      "\u001b[1;31m---------------------------------------------------------------------------\u001b[0m",
      "\u001b[1;31mModuleNotFoundError\u001b[0m                       Traceback (most recent call last)",
      "\u001b[1;32m<ipython-input-1-1ba22ee89446>\u001b[0m in \u001b[0;36m<module>\u001b[1;34m\u001b[0m\n\u001b[0;32m      7\u001b[0m \u001b[1;32mimport\u001b[0m \u001b[0mjson\u001b[0m\u001b[1;33m\u001b[0m\u001b[1;33m\u001b[0m\u001b[0m\n\u001b[0;32m      8\u001b[0m \u001b[1;32mfrom\u001b[0m \u001b[0mpprint\u001b[0m \u001b[1;32mimport\u001b[0m \u001b[0mpprint\u001b[0m\u001b[1;33m\u001b[0m\u001b[1;33m\u001b[0m\u001b[0m\n\u001b[1;32m----> 9\u001b[1;33m \u001b[1;32mfrom\u001b[0m \u001b[0mapi_keys\u001b[0m \u001b[1;32mimport\u001b[0m \u001b[0mgkey\u001b[0m\u001b[1;33m\u001b[0m\u001b[1;33m\u001b[0m\u001b[0m\n\u001b[0m",
      "\u001b[1;31mModuleNotFoundError\u001b[0m: No module named 'api_keys'"
     ]
    }
   ],
   "source": [
    "# import dependencies\n",
    "%matplotlib inline\n",
    "import matplotlib.pyplot as plt\n",
    "import pandas as pd\n",
    "import numpy as np\n",
    "import requests\n",
    "import json\n",
    "from pprint import pprint\n",
    "from api_keys import gkey"
   ]
  },
  {
   "cell_type": "code",
   "execution_count": null,
   "metadata": {},
   "outputs": [],
   "source": [
    "# load in csv files\n",
    "county_crime_csv = \"Data Files/2010 CA County Crime Data.csv\" \n",
    "county_officer_csv = \"Data Files/2010 CA County LEO Data.csv\"\n",
    "city_crime_csv = \"Data Files/2010 CA City Crime Data.csv\"\n",
    "city_officer_csv = \"Data Files/2010 CA City LEO Data.csv\"\n",
    "population_data_csv = \"Data Files/CA Census Population Data.csv\"\n",
    "county_area_csv = \"Data Files/County Land Area.csv\""
   ]
  },
  {
   "cell_type": "code",
   "execution_count": null,
   "metadata": {},
   "outputs": [],
   "source": [
    "# read the csv files to data frames\n",
    "county_crime_df = pd.read_csv(county_crime_csv)\n",
    "county_officers_df = pd.read_csv(county_officer_csv)\n",
    "city_crime_df = pd.read_csv(city_crime_csv)\n",
    "city_officers_df = pd.read_csv(city_officer_csv)\n",
    "population_df = pd.read_csv(population_data_csv)\n",
    "counties_df = pd.read_csv(county_area_csv)"
   ]
  },
  {
   "cell_type": "markdown",
   "metadata": {},
   "source": [
    "## Clean the County Crime Data"
   ]
  },
  {
   "cell_type": "code",
   "execution_count": null,
   "metadata": {},
   "outputs": [],
   "source": [
    "# drop extraneuos rows before the header row\n",
    "county_crime_df = county_crime_df.drop([0,1,2,3]).reset_index(drop=True)\n",
    "\n",
    "# define the headers, remove their row, and insert the headers as column names\n",
    "headers = county_crime_df.iloc[0]\n",
    "county_crime_df = county_crime_df[1:]\n",
    "county_crime_df.columns = headers\n",
    "county_crime_df = county_crime_df.reset_index(drop=True)"
   ]
  },
  {
   "cell_type": "code",
   "execution_count": null,
   "metadata": {},
   "outputs": [],
   "source": [
    "# remove '\\n' from column names and rename the 'county type' column header\n",
    "county_crime_df.columns = county_crime_df.columns.str.strip().str.replace('\\n','')\n",
    "county_crime_df.rename(columns={'Metropolitan/Nonmetropolitan':'County Type'}, inplace=True)"
   ]
  },
  {
   "cell_type": "code",
   "execution_count": null,
   "metadata": {},
   "outputs": [],
   "source": [
    "# fill the county type down to replace the NaN values and remove 'Counties' from the end of the county type\n",
    "county_crime_df['County Type'].fillna(method='ffill', inplace=True)\n",
    "county_crime_df['County Type'] = county_crime_df['County Type'].str.split().str.get(0)"
   ]
  },
  {
   "cell_type": "code",
   "execution_count": null,
   "metadata": {},
   "outputs": [],
   "source": [
    "# remove Tulare County (because of incomplete data) and the last row with NaN values from a footnote\n",
    "county_crime_df = county_crime_df.dropna().reset_index(drop=True)"
   ]
  },
  {
   "cell_type": "code",
   "execution_count": null,
   "metadata": {
    "scrolled": false
   },
   "outputs": [],
   "source": [
    "# moving the county name in front of the county type\n",
    "county_crime_df.rename(columns={'County':'County old'}, inplace=True)\n",
    "county_crime_df.insert(0, 'County', county_crime_df['County old'])\n",
    "\n",
    "# remove the old 'County' column\n",
    "del county_crime_df['County old']\n",
    "\n",
    "# removing Arson column as it is not included in property crime totals\n",
    "del county_crime_df['Arson']"
   ]
  },
  {
   "cell_type": "code",
   "execution_count": null,
   "metadata": {},
   "outputs": [],
   "source": [
    "# change data type of the crime counts to integer\n",
    "county_crime_df['Violent crime'] = county_crime_df['Violent crime'].str.replace(',', '').astype(int)\n",
    "county_crime_df['Murder and nonnegligent manslaughter'] = county_crime_df['Murder and nonnegligent manslaughter'].str.replace(',', '').astype(int)\n",
    "county_crime_df['Forcible rape'] = county_crime_df['Forcible rape'].str.replace(',', '').astype(int)\n",
    "county_crime_df['Robbery'] = county_crime_df['Robbery'].str.replace(',', '').astype(int)\n",
    "county_crime_df['Aggravated assault'] = county_crime_df['Aggravated assault'].str.replace(',', '').astype(int)\n",
    "county_crime_df['Property crime'] = county_crime_df['Property crime'].str.replace(',', '').astype(int)\n",
    "county_crime_df['Burglary'] = county_crime_df['Burglary'].str.replace(',', '').astype(int)\n",
    "county_crime_df['Larceny-theft'] = county_crime_df['Larceny-theft'].str.replace(',', '').astype(int)\n",
    "county_crime_df['Motor vehicle theft'] = county_crime_df['Motor vehicle theft'].str.replace(',', '').astype(int)"
   ]
  },
  {
   "cell_type": "code",
   "execution_count": null,
   "metadata": {
    "scrolled": true
   },
   "outputs": [],
   "source": [
    "# display the county crime data frame\n",
    "county_crime_df.head()"
   ]
  },
  {
   "cell_type": "markdown",
   "metadata": {},
   "source": [
    "## Clean the City Crime Data & Pull Corresponding Counties from Google Maps API"
   ]
  },
  {
   "cell_type": "code",
   "execution_count": null,
   "metadata": {},
   "outputs": [],
   "source": [
    "# drop extraneuos rows before the header row\n",
    "city_crime_df = city_crime_df.drop([0,1,2]).reset_index(drop=True)\n",
    "\n",
    "# define the headers, remove their row, and insert the headers as column names\n",
    "headers = city_crime_df.iloc[0]\n",
    "city_crime_df = city_crime_df[1:]\n",
    "city_crime_df.columns = headers\n",
    "city_crime_df = city_crime_df.reset_index(drop=True)"
   ]
  },
  {
   "cell_type": "code",
   "execution_count": null,
   "metadata": {},
   "outputs": [],
   "source": [
    "# clean column headers and delete extraneous columns\n",
    "city_crime_df.columns = city_crime_df.columns.str.strip().str.replace('\\n',' ')\n",
    "del city_crime_df['Population']\n",
    "del city_crime_df['Arson']"
   ]
  },
  {
   "cell_type": "code",
   "execution_count": null,
   "metadata": {},
   "outputs": [],
   "source": [
    "# drop extra rows that have NaN values\n",
    "city_crime_df = city_crime_df.dropna().reset_index(drop=True)"
   ]
  },
  {
   "cell_type": "code",
   "execution_count": null,
   "metadata": {
    "scrolled": true
   },
   "outputs": [],
   "source": [
    "# insert column to store county names\n",
    "city_crime_df.insert(1, 'County', '')"
   ]
  },
  {
   "cell_type": "code",
   "execution_count": null,
   "metadata": {},
   "outputs": [],
   "source": [
    "# base url for google maps api calls\n",
    "base_url = 'https://maps.googleapis.com/maps/api/geocode/json?key='\n",
    "\n",
    "# loop through data frame, call the api for the city, and pull out the county into the 'County' column\n",
    "for index, row in city_crime_df.iterrows():\n",
    "    \n",
    "    city = row['City']\n",
    "    \n",
    "    query_url = base_url + gkey + '&address=' + city + ',California'\n",
    "    \n",
    "    response = requests.get(query_url).json()\n",
    "    \n",
    "    if((response['results'][0]['address_components'][1]['long_name'].rsplit(' ', 1)[-1]) == 'County'):\n",
    "        county = response['results'][0]['address_components'][1]['long_name']\n",
    "    else:\n",
    "        county = response['results'][0]['address_components'][2]['long_name']\n",
    "   \n",
    "    city_crime_df.loc[index, 'County'] = county.rsplit(' ', 1)[0]"
   ]
  },
  {
   "cell_type": "code",
   "execution_count": null,
   "metadata": {},
   "outputs": [],
   "source": [
    "# change data type of the crime counts to integer\n",
    "city_crime_df['Violent crime'] = city_crime_df['Violent crime'].str.replace(',', '').astype(int)\n",
    "city_crime_df['Murder and nonnegligent manslaughter'] = city_crime_df['Murder and nonnegligent manslaughter'].str.replace(',', '').astype(int)\n",
    "city_crime_df['Forcible rape'] = city_crime_df['Forcible rape'].str.replace(',', '').astype(int)\n",
    "city_crime_df['Robbery'] = city_crime_df['Robbery'].str.replace(',', '').astype(int)\n",
    "city_crime_df['Aggravated assault'] = city_crime_df['Aggravated assault'].str.replace(',', '').astype(int)\n",
    "city_crime_df['Property crime'] = city_crime_df['Property crime'].str.replace(',', '').astype(int)\n",
    "city_crime_df['Burglary'] = city_crime_df['Burglary'].str.replace(',', '').astype(int)\n",
    "city_crime_df['Larceny- theft'] = city_crime_df['Larceny- theft'].str.replace(',', '').astype(int)\n",
    "city_crime_df['Motor vehicle theft'] = city_crime_df['Motor vehicle theft'].str.replace(',', '').astype(int)"
   ]
  },
  {
   "cell_type": "code",
   "execution_count": null,
   "metadata": {
    "scrolled": true
   },
   "outputs": [],
   "source": [
    "# group the cities by county and sum the crime counts\n",
    "grouped_city_crime_df = city_crime_df.groupby(['County']).sum()"
   ]
  },
  {
   "cell_type": "code",
   "execution_count": null,
   "metadata": {},
   "outputs": [],
   "source": [
    "# remove Tulare County from the data frame\n",
    "grouped_city_crime_df = grouped_city_crime_df.drop('Tulare').reset_index()"
   ]
  },
  {
   "cell_type": "code",
   "execution_count": null,
   "metadata": {
    "scrolled": false
   },
   "outputs": [],
   "source": [
    "# display the new data frame of city agency crimes grouped by county\n",
    "grouped_city_crime_df.head()"
   ]
  },
  {
   "cell_type": "markdown",
   "metadata": {},
   "source": [
    "## Clean the County Police Officer Data"
   ]
  },
  {
   "cell_type": "code",
   "execution_count": null,
   "metadata": {
    "scrolled": true
   },
   "outputs": [],
   "source": [
    "# drop extraneuos rows before the header row\n",
    "county_officers_df = county_officers_df.drop([0,1,2]).reset_index(drop=True)\n",
    "\n",
    "# define the headers, remove their row, and insert the headers as column names\n",
    "headers = county_officers_df.iloc[0]\n",
    "county_officers_df = county_officers_df[1:]\n",
    "county_officers_df.columns = headers\n",
    "county_officers_df = county_officers_df.reset_index(drop=True)"
   ]
  },
  {
   "cell_type": "code",
   "execution_count": null,
   "metadata": {},
   "outputs": [],
   "source": [
    "# clean the column headers and delete extraneous columns\n",
    "county_officers_df.columns = county_officers_df.columns.str.strip().str.replace('\\n',' ')\n",
    "del county_officers_df['Metropolitan/Nonmetropolitan']\n",
    "del county_officers_df['Total law enforcement employees']\n",
    "del county_officers_df['Total civilians']"
   ]
  },
  {
   "cell_type": "code",
   "execution_count": null,
   "metadata": {},
   "outputs": [],
   "source": [
    "# remove Tulare County\n",
    "county_officers_df = county_officers_df[county_officers_df['County'] != 'Tulare']\n",
    "county_officers_df = county_officers_df.dropna().reset_index(drop=True)"
   ]
  },
  {
   "cell_type": "code",
   "execution_count": null,
   "metadata": {},
   "outputs": [],
   "source": [
    "# change the data type of the officer count to integer\n",
    "county_officers_df['Total officers'] = county_officers_df['Total officers'].str.replace(',', '').astype(int)"
   ]
  },
  {
   "cell_type": "code",
   "execution_count": null,
   "metadata": {
    "scrolled": true
   },
   "outputs": [],
   "source": [
    "# display the county officers data frame\n",
    "county_officers_df.head()"
   ]
  },
  {
   "cell_type": "markdown",
   "metadata": {},
   "source": [
    "## Clean the City Police Officer Data & Pull Corresponding Counties from Google Maps API"
   ]
  },
  {
   "cell_type": "code",
   "execution_count": null,
   "metadata": {},
   "outputs": [],
   "source": [
    "# drop extraneuos rows before the header row\n",
    "city_officers_df = city_officers_df.drop([0,1,2]).reset_index(drop=True)\n",
    "\n",
    "# define the headers, remove their row, and insert the headers as column names\n",
    "headers = city_officers_df.iloc[0]\n",
    "city_officers_df = city_officers_df[1:]\n",
    "city_officers_df.columns = headers\n",
    "city_officers_df = city_officers_df.reset_index(drop=True)"
   ]
  },
  {
   "cell_type": "code",
   "execution_count": null,
   "metadata": {},
   "outputs": [],
   "source": [
    "# clean column headers and delete extraneous columns\n",
    "city_officers_df.columns = city_officers_df.columns.str.strip().str.replace('\\n',' ')\n",
    "del city_officers_df['Population']\n",
    "del city_officers_df['Total law enforcement employees']\n",
    "del city_officers_df['Total civilians']"
   ]
  },
  {
   "cell_type": "code",
   "execution_count": null,
   "metadata": {},
   "outputs": [],
   "source": [
    "# drop extra rows that have NaN values\n",
    "city_officers_df = city_officers_df.dropna().reset_index(drop=True)\n",
    "\n",
    "city_officers_df.insert(1, 'County', '')"
   ]
  },
  {
   "cell_type": "code",
   "execution_count": null,
   "metadata": {},
   "outputs": [],
   "source": [
    "# base url for google maps api calls\n",
    "base_url = 'https://maps.googleapis.com/maps/api/geocode/json?key='\n",
    "\n",
    "# loop through data frame, call the api for the city, and pull out the county into the 'County' column\n",
    "\n",
    "for index, row in city_officers_df.iterrows():\n",
    "    \n",
    "    city = row['City']\n",
    "    \n",
    "    query_url = base_url + gkey + '&address=' + city + ',California'\n",
    "    \n",
    "    response = requests.get(query_url).json()\n",
    "    \n",
    "    if((response['results'][0]['address_components'][1]['long_name'].rsplit(' ', 1)[-1]) == 'County'):\n",
    "        county = response['results'][0]['address_components'][1]['long_name']\n",
    "    else:\n",
    "        county = response['results'][0]['address_components'][2]['long_name']\n",
    "    \n",
    "    city_officers_df.loc[index, 'County'] = county.rsplit(' ', 1)[0]"
   ]
  },
  {
   "cell_type": "code",
   "execution_count": null,
   "metadata": {},
   "outputs": [],
   "source": [
    "# change data type of the officer count to integer\n",
    "city_officers_df['Total officers'] = city_officers_df['Total officers'].str.replace(',', '').astype(int)"
   ]
  },
  {
   "cell_type": "code",
   "execution_count": null,
   "metadata": {},
   "outputs": [],
   "source": [
    "# group the cities by county and sum the officer counts\n",
    "grouped_city_officers_df = city_officers_df.groupby(['County']).sum().reset_index()"
   ]
  },
  {
   "cell_type": "code",
   "execution_count": null,
   "metadata": {
    "scrolled": false
   },
   "outputs": [],
   "source": [
    "# remove Tulare County \n",
    "grouped_city_officers_df = grouped_city_officers_df[grouped_city_officers_df['County'] != 'Tulare']"
   ]
  },
  {
   "cell_type": "code",
   "execution_count": null,
   "metadata": {},
   "outputs": [],
   "source": [
    "# display the new data frame of city officers grouped by county\n",
    "grouped_city_officers_df.head()"
   ]
  },
  {
   "cell_type": "markdown",
   "metadata": {},
   "source": [
    "## Merge Crime Data Frames"
   ]
  },
  {
   "cell_type": "code",
   "execution_count": null,
   "metadata": {},
   "outputs": [],
   "source": [
    "# create new data frame that will be used to merge crime data\n",
    "total_crime_df = county_crime_df"
   ]
  },
  {
   "cell_type": "code",
   "execution_count": null,
   "metadata": {},
   "outputs": [],
   "source": [
    "# merge county crime with the grouped city crime\n",
    "total_crime_df = total_crime_df.merge(grouped_city_crime_df, on='County', how='outer', suffixes=('_county', '_grouped')).fillna(0)"
   ]
  },
  {
   "cell_type": "code",
   "execution_count": null,
   "metadata": {},
   "outputs": [],
   "source": [
    "# add Metropolitan label to San Francisco and Solano, which weren't listed in the county crime data\n",
    "total_crime_df['County Type'] = total_crime_df['County Type'].replace(0, 'Metropolitan')"
   ]
  },
  {
   "cell_type": "code",
   "execution_count": null,
   "metadata": {},
   "outputs": [],
   "source": [
    "# combine each of the offense types into new total columns\n",
    "total_crime_df['Violent Crime'] = (total_crime_df['Violent crime_county'] + total_crime_df['Violent crime_grouped']).astype(int)\n",
    "total_crime_df['Murder and Nonnegligent Manslaughter'] = (total_crime_df['Murder and nonnegligent manslaughter_county'] + total_crime_df['Murder and nonnegligent manslaughter_grouped']).astype(int)\n",
    "total_crime_df['Forcible Rape'] = (total_crime_df['Forcible rape_county'] + total_crime_df['Forcible rape_grouped']).astype(int)\n",
    "total_crime_df['Robbery'] = (total_crime_df['Robbery_county'] + total_crime_df['Robbery_grouped']).astype(int)\n",
    "total_crime_df['Aggravated Assault'] = (total_crime_df['Aggravated assault_county'] + total_crime_df['Aggravated assault_grouped']).astype(int)\n",
    "total_crime_df['Property Crime'] = (total_crime_df['Property crime_county'] + total_crime_df['Property crime_grouped']).astype(int)\n",
    "total_crime_df['Burglary'] = (total_crime_df['Burglary_county'] + total_crime_df['Burglary_grouped']).astype(int)\n",
    "total_crime_df['Larceny - Theft'] = (total_crime_df['Larceny-theft'] + total_crime_df['Larceny- theft']).astype(int)\n",
    "total_crime_df['Motor Vehicle Theft'] = (total_crime_df['Motor vehicle theft_county'] + total_crime_df['Motor vehicle theft_grouped']).astype(int)"
   ]
  },
  {
   "cell_type": "code",
   "execution_count": null,
   "metadata": {},
   "outputs": [],
   "source": [
    "# delete columns we no longer need\n",
    "del total_crime_df['Violent crime_county']\n",
    "del total_crime_df['Murder and nonnegligent manslaughter_county']\n",
    "del total_crime_df['Forcible rape_county']\n",
    "del total_crime_df['Robbery_county']\n",
    "del total_crime_df['Aggravated assault_county']\n",
    "del total_crime_df['Property crime_county']\n",
    "del total_crime_df['Burglary_county']\n",
    "del total_crime_df['Larceny-theft']\n",
    "del total_crime_df['Motor vehicle theft_county']\n",
    "del total_crime_df['Violent crime_grouped']\n",
    "del total_crime_df['Murder and nonnegligent manslaughter_grouped']\n",
    "del total_crime_df['Forcible rape_grouped']\n",
    "del total_crime_df['Robbery_grouped']\n",
    "del total_crime_df['Aggravated assault_grouped']\n",
    "del total_crime_df['Property crime_grouped']\n",
    "del total_crime_df['Burglary_grouped']\n",
    "del total_crime_df['Larceny- theft']\n",
    "del total_crime_df['Motor vehicle theft_grouped']"
   ]
  },
  {
   "cell_type": "code",
   "execution_count": null,
   "metadata": {},
   "outputs": [],
   "source": [
    "# display the total crime data frame\n",
    "total_crime_df.head()"
   ]
  },
  {
   "cell_type": "markdown",
   "metadata": {},
   "source": [
    "## Merge Police Officer Data Frames"
   ]
  },
  {
   "cell_type": "code",
   "execution_count": null,
   "metadata": {
    "scrolled": true
   },
   "outputs": [],
   "source": [
    "# create new dataframe for officer data to be merged into\n",
    "total_officers_df = county_officers_df"
   ]
  },
  {
   "cell_type": "code",
   "execution_count": null,
   "metadata": {},
   "outputs": [],
   "source": [
    "# merge county officer data with the grouped city officer data\n",
    "total_officers_df = total_officers_df.merge(grouped_city_officers_df, on='County', how='outer', suffixes=('_county', '_grouped'))"
   ]
  },
  {
   "cell_type": "code",
   "execution_count": null,
   "metadata": {},
   "outputs": [],
   "source": [
    "# replace NaN values with zero and add officer columns to get total\n",
    "total_officers_df.fillna(0, inplace=True)\n",
    "total_officers_df['Total Officers'] = (total_officers_df['Total officers_county'] + total_officers_df['Total officers_grouped']).astype(int)"
   ]
  },
  {
   "cell_type": "code",
   "execution_count": null,
   "metadata": {},
   "outputs": [],
   "source": [
    "# delete columns we no longer need\n",
    "del total_officers_df['Total officers_county'] \n",
    "del total_officers_df['Total officers_grouped']"
   ]
  },
  {
   "cell_type": "code",
   "execution_count": null,
   "metadata": {},
   "outputs": [],
   "source": [
    "# display the total officers data frame\n",
    "total_officers_df.head()"
   ]
  },
  {
   "cell_type": "markdown",
   "metadata": {},
   "source": [
    "## Merge Police Officer Data into Crime Data Frame"
   ]
  },
  {
   "cell_type": "code",
   "execution_count": null,
   "metadata": {},
   "outputs": [],
   "source": [
    "# merge total crime with total officers\n",
    "crime_officer_data = total_crime_df.merge(total_officers_df, on='County')"
   ]
  },
  {
   "cell_type": "code",
   "execution_count": null,
   "metadata": {},
   "outputs": [],
   "source": [
    "# display the crime and officer data frame\n",
    "crime_officer_data.head()"
   ]
  },
  {
   "cell_type": "markdown",
   "metadata": {},
   "source": [
    "## Clean County Population Data & Merge into the Crime & Officer Data Frame"
   ]
  },
  {
   "cell_type": "code",
   "execution_count": null,
   "metadata": {},
   "outputs": [],
   "source": [
    "# drop extraneuos rows before the header row\n",
    "population_df = population_df.drop([0,2,3]).reset_index(drop=True)\n",
    "\n",
    "# define the headers, remove their row, and insert the headers as column names\n",
    "headers = population_df.iloc[0]\n",
    "population_df = population_df[1:]\n",
    "population_df.columns = headers\n",
    "population_df = population_df.reset_index(drop=True)"
   ]
  },
  {
   "cell_type": "code",
   "execution_count": null,
   "metadata": {},
   "outputs": [],
   "source": [
    "# remove '\\n' from column headers\n",
    "population_df.columns = population_df.columns.str.strip().str.replace('\\n','')"
   ]
  },
  {
   "cell_type": "code",
   "execution_count": null,
   "metadata": {},
   "outputs": [],
   "source": [
    "# extract County Name, Population for 2010, and sumlvl\n",
    "population_df = population_df[['County','April 1,2010','sumlvl']]"
   ]
  },
  {
   "cell_type": "code",
   "execution_count": null,
   "metadata": {},
   "outputs": [],
   "source": [
    "# remove all rows that are not at the county level\n",
    "population_df = population_df.loc[population_df['sumlvl'] == '050'].reset_index(drop=True)"
   ]
  },
  {
   "cell_type": "code",
   "execution_count": null,
   "metadata": {},
   "outputs": [],
   "source": [
    "# remove the sumlvl column and rename the date of the population to 'Population'\n",
    "del population_df['sumlvl']\n",
    "population_df = population_df.rename(columns={'April 1,2010':'Population'})"
   ]
  },
  {
   "cell_type": "code",
   "execution_count": null,
   "metadata": {},
   "outputs": [],
   "source": [
    "# remove Tulare County\n",
    "population_df = population_df.loc[population_df['County'] != 'Tulare']\n",
    "# remove Klamath County, NaN because it no longer exists\n",
    "population_df = population_df.dropna().reset_index(drop=True)"
   ]
  },
  {
   "cell_type": "code",
   "execution_count": null,
   "metadata": {},
   "outputs": [],
   "source": [
    "# change the data type of 'Population' into an integer\n",
    "population_df['Population'] = population_df['Population'].str.replace(',', '').astype(int)"
   ]
  },
  {
   "cell_type": "code",
   "execution_count": null,
   "metadata": {},
   "outputs": [],
   "source": [
    "# merge the population column into the crime and officer data frame\n",
    "crime_officer_pop = crime_officer_data.merge(population_df, on='County')"
   ]
  },
  {
   "cell_type": "code",
   "execution_count": null,
   "metadata": {},
   "outputs": [],
   "source": [
    "# display the crime, officer, and population data frame\n",
    "crime_officer_pop.head()"
   ]
  },
  {
   "cell_type": "markdown",
   "metadata": {},
   "source": [
    "## Clean County Land Area Data & Merge into the Crime, Officer, & Population Data Frame"
   ]
  },
  {
   "cell_type": "code",
   "execution_count": null,
   "metadata": {
    "scrolled": true
   },
   "outputs": [],
   "source": [
    "# limit county land area data down to California counties\n",
    "ca_counties_df = counties_df.loc[(counties_df['STCOU'] > 6000) & (counties_df['STCOU'] < 6200)]\n",
    "ca_counties_df = ca_counties_df.reset_index(drop=True)"
   ]
  },
  {
   "cell_type": "code",
   "execution_count": null,
   "metadata": {},
   "outputs": [],
   "source": [
    "# extract the county name and land area for 2010\n",
    "ca_counties_df = ca_counties_df[['Areaname','LND110210D']]"
   ]
  },
  {
   "cell_type": "code",
   "execution_count": null,
   "metadata": {},
   "outputs": [],
   "source": [
    "# define the county from the areaname column\n",
    "county = ca_counties_df['Areaname'].str.split(',',1, expand=True)"
   ]
  },
  {
   "cell_type": "code",
   "execution_count": null,
   "metadata": {},
   "outputs": [],
   "source": [
    "# insert the county into a new column\n",
    "ca_counties_df['County'] = county[0]"
   ]
  },
  {
   "cell_type": "code",
   "execution_count": null,
   "metadata": {},
   "outputs": [],
   "source": [
    "# insert land area into a new column and format as an integer\n",
    "ca_counties_df['Land Area'] = ca_counties_df['LND110210D'].astype(int)"
   ]
  },
  {
   "cell_type": "code",
   "execution_count": null,
   "metadata": {},
   "outputs": [],
   "source": [
    "# delete old columns\n",
    "del ca_counties_df['Areaname']\n",
    "del ca_counties_df['LND110210D']"
   ]
  },
  {
   "cell_type": "code",
   "execution_count": null,
   "metadata": {},
   "outputs": [],
   "source": [
    "# remove Tulare County\n",
    "ca_counties_df = ca_counties_df.loc[ca_counties_df['County'] != 'Tulare'].reset_index(drop=True)"
   ]
  },
  {
   "cell_type": "code",
   "execution_count": null,
   "metadata": {
    "scrolled": true
   },
   "outputs": [],
   "source": [
    "# display the California counties land area data frame\n",
    "ca_counties_df.head()"
   ]
  },
  {
   "cell_type": "code",
   "execution_count": null,
   "metadata": {},
   "outputs": [],
   "source": [
    "# merge land area into crime, officer, population dataframe to make the output data frame\n",
    "output_data = crime_officer_pop.merge(ca_counties_df, on='County')"
   ]
  },
  {
   "cell_type": "code",
   "execution_count": null,
   "metadata": {},
   "outputs": [],
   "source": [
    "# sort by county type and county to move the two metropolitan counties from the bottom \n",
    "output_data = output_data.sort_values(by=['County Type','County']).reset_index(drop=True)"
   ]
  },
  {
   "cell_type": "code",
   "execution_count": null,
   "metadata": {},
   "outputs": [],
   "source": [
    "# output the final data frame to a csv file\n",
    "output_data.to_csv('Data Files/Output Data Clean.csv', encoding='utf-8', index=False)"
   ]
  },
  {
   "cell_type": "code",
   "execution_count": null,
   "metadata": {},
   "outputs": [],
   "source": [
    "# display the final data frame\n",
    "output_data.head()"
   ]
  }
 ],
 "metadata": {
  "celltoolbar": "Raw Cell Format",
  "kernelspec": {
   "display_name": "Python 3",
   "language": "python",
   "name": "python3"
  },
  "language_info": {
   "codemirror_mode": {
    "name": "ipython",
    "version": 3
   },
   "file_extension": ".py",
   "mimetype": "text/x-python",
   "name": "python",
   "nbconvert_exporter": "python",
   "pygments_lexer": "ipython3",
   "version": "3.7.3"
  }
 },
 "nbformat": 4,
 "nbformat_minor": 2
}
